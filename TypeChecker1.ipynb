{
 "metadata": {
  "name": "",
  "signature": "sha256:698c0e7a7e0e63af3a3626fd92ff41f71518836a6c1ba5c93903e81f32218895"
 },
 "nbformat": 3,
 "nbformat_minor": 0,
 "worksheets": [
  {
   "cells": [
    {
     "cell_type": "code",
     "collapsed": false,
     "input": [
      "import types\n",
      "from functools import reduce\n",
      "from patterns import patterns, Mismatch\n",
      "import string\n",
      "\n",
      "@patterns\n",
      "def typeCheckQ():\n",
      "    if q is Linear: True\n",
      "    if q is Unlimited: True\n",
      "    else: False\n",
      "\n",
      "@patterns\n",
      "def typeCheckBool():\n",
      "    if True: True\n",
      "    if False: True\n",
      "    else: False\n",
      "        \n",
      "@patterns\n",
      "def typeCheckVar():\n",
      "    if s is Var: return True\n",
      "    else: False\n",
      "\n",
      "@patterns\n",
      "def typeCheckTy():\n",
      "    if t is TyBool: return True\n",
      "    if t is TyEnd: return True\n",
      "    if t is TyQual: return typeCheckQ(t.qual) and typeCheckPre(t.pre) \n",
      "    else: False\n",
      "\n",
      "def typeCheckList(lis):\n",
      "    result = True\n",
      "    for l, ty in lis:\n",
      "        result = result & typeCheckLabel(l) &typeCheckTy(ty)\n",
      "    return result\n",
      "\n",
      "@patterns\n",
      "def typeCheckPre():\n",
      "    if t is TyRecv: return typeCheckTy(t.ty1) and typeCheckTy(t.ty2) \n",
      "    if t is TySend: return True\n",
      "    if t is TyBranch: return typeCheckList(lis)       \n",
      "    if t is TySelect: return typeCheckList(lis)\n",
      "    else: False\n",
      "\n",
      "@patterns\n",
      "def typeCheckLabel():\n",
      "    if l is Label: return True\n",
      "    else: return False \n",
      "        \n",
      "@patterns\n",
      "def typeCheckChannel():\n",
      "    if c is Channel: return typeCheckVar(c.name)\n",
      "    else: return False\n",
      "\n",
      "@patterns\n",
      "def typeCheckValue():\n",
      "    if var is Variable: return typeCheckVar(var)\n",
      "    if vbool is VBool: return typeCheckBool(vbool)\n",
      "    \n",
      "@patterns\n",
      "def typeCheckProcess():\n",
      "    if o is Output: return typeCheckChannel(o.channel) & typeCheckValue(o.value) & typeCheckProcess(o.process)\n",
      "    if i is Input: return typeCheckQ(i.qualifier) & typeCheckChannel(i.channel) & typeCheckVar(i.var), typeCheckProcess(i.process)\n",
      "    if p is Par: return typeCheckProcess(p.process1) & typeCheckProcess(p.process2)\n",
      "    if f is If: return typeCheckValue(p.value) & typeCheckProcess(p.process1) & typeCheckProcess(p.process2)\n",
      "    if iac is Inaction: return True\n",
      "    if sc is ScopeRestriction: return typeCheckChannel(sc.channel1) & typeCheckChannel(sc.channel2) & typeCheckTy(sc.ty) & typeCheckProcess(sc.process)\n",
      "    if sel is Select: return typeCheckLabel(sel.label) & typeCheckProcess(sel.process)\n",
      "    if b is Branch: return reduce(lambda x, (l, v): True & typeCheckLabel(l) & typeCheckProcess(v) , b.lis, 0)\n",
      "    else: return False\n",
      "        \n",
      "@patterns\n",
      "def typeCheck():\n",
      "    if 0: return True\n",
      "    if s is Var: return True\n",
      "    if l is Label: return typeCheckLabel(l)\n",
      "    if n is Value: return typeCheckValue(n)\n",
      "    if q is Qualifier: return typeCheckQ(q)\n",
      "    if t is Ty: return typeCheckTy(t)\n",
      "    if p is PreType: return typeCheckPre(p)\n",
      "    if c is Channel : return typeCheckChannel(c)\n",
      "    if pc is Process : return typeCheckProcess(pc)\n",
      "    else: False"
     ],
     "language": "python",
     "metadata": {},
     "outputs": [],
     "prompt_number": 178
    },
    {
     "cell_type": "code",
     "collapsed": false,
     "input": [
      "t_qual = Qualifier()\n",
      "t_qual_linear = Linear()\n",
      "t_qual_unlimited = Unlimited()\n",
      "\n",
      "#print(t_qual, typeCheck(t_qual))\n",
      "print (t_qual_linear, typeCheck(t_qual_linear)) \n",
      "print (t_qual_unlimited, typeCheck(t_qual_unlimited))"
     ],
     "language": "python",
     "metadata": {},
     "outputs": [
      {
       "output_type": "stream",
       "stream": "stdout",
       "text": [
        "(<__main__.Linear instance at 0x104a14128>, True)\n",
        "(<__main__.Unlimited instance at 0x104a772d8>, True)\n"
       ]
      }
     ],
     "prompt_number": 179
    },
    {
     "cell_type": "code",
     "collapsed": false,
     "input": [
      "t_var = \"x\"\n",
      "print (t_var, typeCheck(t_var))"
     ],
     "language": "python",
     "metadata": {},
     "outputs": [
      {
       "output_type": "stream",
       "stream": "stdout",
       "text": [
        "('x', True)\n"
       ]
      }
     ],
     "prompt_number": 174
    },
    {
     "cell_type": "code",
     "collapsed": false,
     "input": [
      "t_tybool = TyBool()\n",
      "print(t_tybool, typeCheck(t_tybool))\n",
      "t_tyend = TyEnd()\n",
      "print(t_tyend, typeCheck(t_tyend))\n",
      "#t_tyqual = TyQual(t_qual_linear, t_tyrecv)\n",
      "#print(t_tyqual, typeCheck(t_tyqual))"
     ],
     "language": "python",
     "metadata": {},
     "outputs": [
      {
       "output_type": "stream",
       "stream": "stdout",
       "text": [
        "(<__main__.TyBool instance at 0x104a775f0>, True)\n",
        "(<__main__.TyEnd instance at 0x104a77ea8>, True)\n"
       ]
      }
     ],
     "prompt_number": 175
    },
    {
     "cell_type": "code",
     "collapsed": false,
     "input": [
      "t_recv = TyRecv(t_tybool, t_tyend)\n",
      "t_send= TySend(t_tybool, t_tyend)\n",
      "print(t_recv, typeCheck(t_recv))\n",
      "print(t_send, typeCheck(t_send))"
     ],
     "language": "python",
     "metadata": {},
     "outputs": [
      {
       "output_type": "stream",
       "stream": "stdout",
       "text": [
        "(<__main__.TyRecv instance at 0x1049ce998>, True)\n",
        "(<__main__.TySend instance at 0x104a77cf8>, True)\n"
       ]
      }
     ],
     "prompt_number": 176
    },
    {
     "cell_type": "code",
     "collapsed": false,
     "input": [
      "t_label = Label(\"hello\")\n",
      "print(t_label, typeCheck(t_label))"
     ],
     "language": "python",
     "metadata": {},
     "outputs": [
      {
       "output_type": "stream",
       "stream": "stdout",
       "text": [
        "(<__main__.Label instance at 0x1049cec20>, True)\n"
       ]
      }
     ],
     "prompt_number": 177
    },
    {
     "cell_type": "code",
     "collapsed": false,
     "input": [
      "lis = [(t_label, t_tybool),(t_label, t_tybool),(t_label, t_tybool)]\n",
      "t_tybranch = TyBranch(lis)\n",
      "print(typeCheck(t_tybranch))\n",
      "\n",
      "t_tyselect = TySelect(lis)\n",
      "print(typeCheck(t_tyselect))\n",
      "\n",
      "#t_tyselect.lis.append((t_label, t_label))\n",
      "#print(typeCheck(t_tyselect))"
     ],
     "language": "python",
     "metadata": {},
     "outputs": [
      {
       "output_type": "stream",
       "stream": "stdout",
       "text": [
        "True\n",
        "True\n"
       ]
      }
     ],
     "prompt_number": 169
    },
    {
     "cell_type": "code",
     "collapsed": false,
     "input": [
      "c = Channel(\"c\")\n",
      "print(c, typeCheck(c))"
     ],
     "language": "python",
     "metadata": {},
     "outputs": [
      {
       "output_type": "stream",
       "stream": "stdout",
       "text": [
        "(<__main__.Channel instance at 0x10492fdd0>, True)\n"
       ]
      }
     ],
     "prompt_number": 170
    },
    {
     "cell_type": "code",
     "collapsed": false,
     "input": [],
     "language": "python",
     "metadata": {},
     "outputs": []
    }
   ],
   "metadata": {}
  }
 ]
}