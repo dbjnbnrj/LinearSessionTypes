{
 "metadata": {
  "name": "",
  "signature": "sha256:fda0260fe26d85b1b6247f6b401e88fbb3c1b3df4b0ec369006d58addecc2a6b"
 },
 "nbformat": 3,
 "nbformat_minor": 0,
 "worksheets": [
  {
   "cells": [
    {
     "cell_type": "code",
     "collapsed": false,
     "input": [
      "''' Qualifier Type '''\n",
      "class Qualifier:\n",
      "    def __init__(self):\n",
      "        pass\n",
      "\n",
      "class Linear(Qualifier):\n",
      "    def __init__(self):\n",
      "        pass\n",
      "\n",
      "class Unlimited(Qualifier):\n",
      "    def __init__(self):\n",
      "        pass\n",
      "\n",
      "''' Var Type '''\n",
      "Var = str\n",
      "\n",
      "''' Ty Type '''\n",
      "class Ty :\n",
      "    def __init__(self):\n",
      "        pass\n",
      "        \n",
      "class TyBool(Ty):\n",
      "        def __init__(self):\n",
      "            pass\n",
      "            \n",
      "class TyEnd(Ty):\n",
      "        def __init__(self):\n",
      "            \n",
      "class TyQual(Ty): \n",
      "    def __init__(self, qual,pre):\n",
      "        self.qual = qual\n",
      "        self.pre = pre\n",
      "\n",
      "''' PreType Class '''\n",
      "class PreType:\n",
      "    def __init__(self):\n",
      "        pass\n",
      "\n",
      "class TyRecv(PreType):\n",
      "    def __init__(self, ty1, ty2):\n",
      "        self.ty1 = ty1\n",
      "        self.ty2 = ty2\n",
      "        \n",
      "class TySend(PreType):\n",
      "    def __init__(self, ty1, ty2):\n",
      "        self.ty1 = ty1\n",
      "        self.ty2 = ty2\n",
      "\n",
      "class TyBranch(PreType):\n",
      "    def __init__(self, lis):\n",
      "        self.lis = lis\n",
      "\n",
      "class TySelect(PreType):\n",
      "    def __init__(self, lis):\n",
      "        self.lis = lis\n",
      "\n",
      "''' Label Type '''\n",
      "class Label:\n",
      "    def __init__(self, name):\n",
      "        self.name = name\n",
      "\n",
      "''' Value Type'''\n",
      "class Value:\n",
      "    def __init__(self):\n",
      "        pass\n",
      "\n",
      "class Variable(Value):\n",
      "    def __init__(self, var):\n",
      "        self.val = var\n",
      "    \n",
      "class VBool(Value):\n",
      "    def __init__(self, boolval):\n",
      "        self.boolval = boolval\n",
      "\n",
      "''' Channel Type '''\n",
      "class Channel:\n",
      "    def __init__(self, name):\n",
      "        self.name = name \n",
      "\n",
      "''' Process Type '''\n",
      "class Process:\n",
      "    def __init__(self):\n",
      "        pass\n",
      "\n",
      "class Output(Process):\n",
      "    def __init__(self, channel, value, process):\n",
      "        self.channel = channel\n",
      "        self.value = value\n",
      "        self.process = process\n",
      "\n",
      "class Input(Process):\n",
      "    def ___init___(self, qualifier, channel, variable, process):\n",
      "        self.qualifier = qualifier\n",
      "        self.channel = channel\n",
      "        self.variable = variable\n",
      "        self.process = process\n",
      "        \n",
      "class Par(Process):\n",
      "    def __init__(self, process1, process2):\n",
      "        self.process1 = process1\n",
      "        self.process2 = process2\n",
      "\n",
      "class If(Process):\n",
      "    def __init__(self, value, process1, process2):\n",
      "        self.value = value\n",
      "        self.process1 = process1\n",
      "        self.process2 = process2\n",
      "        \n",
      "class Inaction(Process):\n",
      "    def __init__(self):\n",
      "        pass\n",
      "\n",
      "class ScopeRestriction(Process):\n",
      "    def __init__(self, channel1, channel2, ty, process):\n",
      "        self.channel1 = channel1\n",
      "        self.channel2 = channel2\n",
      "        self.ty = ty\n",
      "        self.process = process\n",
      "\n",
      "class Select(Process):\n",
      "    def __init__(self, label, process):\n",
      "        self.label = label\n",
      "        self. process\n",
      "        \n",
      "class Branch(Process):\n",
      "    def __init__(self, lis):\n",
      "        self.lis = lis\n",
      "        \n",
      "class Context:\n",
      "    def __init__(self, ele):\n",
      "        self.ele = ele"
     ],
     "language": "python",
     "metadata": {},
     "outputs": [],
     "prompt_number": 33
    },
    {
     "cell_type": "code",
     "collapsed": false,
     "input": [
      "from functools import reduce\n",
      "from patterns import patterns, Mismatch\n",
      "import string\n",
      "\n",
      "@patterns\n",
      "def typeCheckQ():\n",
      "    if q is Linear: True\n",
      "    if q is Unlimited: True\n",
      "    else: False\n",
      "\n",
      "@patterns\n",
      "def typeCheckBool():\n",
      "    if True: True\n",
      "    if False: True\n",
      "    else: False\n",
      "        \n",
      "@patterns\n",
      "def typeCheckVar():\n",
      "    if s is Var: return True\n",
      "    else: False\n",
      "\n",
      "@patterns\n",
      "def typeCheckTy():\n",
      "    if ty is TyBool: return True\n",
      "    if e is TyEnd: return True\n",
      "    if q is TyQual: return typeCheckQ(q.qual) and typeCheckPre(q.pre) \n",
      "    else: False\n",
      "\n",
      "def typeCheckList(lis):\n",
      "    for l, ty in lis:\n",
      "        print(l, ty)\n",
      "    return True\n",
      "\n",
      "@patterns\n",
      "def typeCheckPre():\n",
      "    if t is TyRecv: return typeCheckTy(t.ty1) and typeCheckTy(t.ty2) \n",
      "    if t is TySend: return True\n",
      "    if t is TyBranch: \n",
      "        typeCheckList(lis)\n",
      "        return True\n",
      "    if t is TySelect: return reduce(lambda x, (l, v): True & typeCheckLabel(l) & typeCheckTy(v) , tbranch.lis, 0)\n",
      "    else: False\n",
      "\n",
      "@patterns\n",
      "def typeCheckLabel():\n",
      "    if l is Label: return True\n",
      "    else: return False \n",
      "        \n",
      "@patterns\n",
      "def typeCheckChannel():\n",
      "    if c is Channel: return typeCheckVar(c.name)\n",
      "    else: return False\n",
      "\n",
      "@patterns\n",
      "def typeCheckValue():\n",
      "    if var is Variable: return typeCheckVar(var)\n",
      "    if vbool is VBool: return typeCheckBool(vbool)\n",
      "    \n",
      "@patterns\n",
      "def typeCheckProcess():\n",
      "    if o is Output: return typeCheckChannel(o.channel) & typeCheckValue(o.value) & typeCheckProcess(o.process)\n",
      "    if i is Input: return typeCheckQ(i.qualifier) & typeCheckChannel(i.channel) & typeCheckVar(i.var), typeCheckProcess(i.process)\n",
      "    if p is Par: return typeCheckProcess(p.process1) & typeCheckProcess(p.process2)\n",
      "    if f is If: return typeCheckValue(p.value) & typeCheckProcess(p.process1) & typeCheckProcess(p.process2)\n",
      "    if iac is Inaction: return True\n",
      "    if sc is ScopeRestriction: return typeCheckChannel(sc.channel1) & typeCheckChannel(sc.channel2) & typeCheckTy(sc.ty) & typeCheckProcess(sc.process)\n",
      "    if sel is Select: return typeCheckLabel(sel.label) & typeCheckProcess(sel.process)\n",
      "    if b is Branch: return reduce(lambda x, (l, v): True & typeCheckLabel(l) & typeCheckProcess(v) , b.lis, 0)\n",
      "    else: return False\n",
      "        \n",
      "@patterns\n",
      "def typeCheck():\n",
      "    if 0: return True\n",
      "    if s is Var: return True\n",
      "    if l is Label: return typeCheckLabel(l)\n",
      "    if n is Value: return typeCheckValue(n)\n",
      "    if q is Qualifier: return typeCheckQ(q)\n",
      "    if t is Ty: return typeCheckTy(t)\n",
      "    if p is PreType: return typeCheckPre(p)\n",
      "    if c is Channel : return typeCheckChannel(c)\n",
      "    if pc is Process : return typeCheckProcess(pc)\n",
      "    else: False"
     ],
     "language": "python",
     "metadata": {},
     "outputs": [],
     "prompt_number": 101
    },
    {
     "cell_type": "code",
     "collapsed": false,
     "input": [
      "t_qual = Qualifier()\n",
      "t_qual_linear = Linear()\n",
      "t_qual_unlimited = Unlimited()\n",
      "\n",
      "#print(t_qual, typeCheck(t_qual))\n",
      "print (t_qual_linear, typeCheck(t_qual_linear)) \n",
      "print (t_qual_unlimited, typeCheck(t_qual_unlimited))"
     ],
     "language": "python",
     "metadata": {},
     "outputs": [
      {
       "output_type": "stream",
       "stream": "stdout",
       "text": [
        "(<__main__.Linear instance at 0x1049bb6c8>, True)\n",
        "(<__main__.Unlimited instance at 0x10494d488>, True)\n"
       ]
      }
     ],
     "prompt_number": 102
    },
    {
     "cell_type": "code",
     "collapsed": false,
     "input": [
      "t_var = \"x\"\n",
      "print (t_var, typeCheck(t_var))"
     ],
     "language": "python",
     "metadata": {},
     "outputs": [
      {
       "output_type": "stream",
       "stream": "stdout",
       "text": [
        "('x', True)\n"
       ]
      }
     ],
     "prompt_number": 103
    },
    {
     "cell_type": "code",
     "collapsed": false,
     "input": [
      "t_tybool = TyBool()\n",
      "print(t_tybool, typeCheck(t_tybool))\n",
      "t_tyend = TyEnd()\n",
      "print(t_tyend, typeCheck(t_tyend))\n",
      "#t_tyqual = TyQual(t_qual_linear, t_tyrecv)\n",
      "#print(t_tyqual, typeCheck(t_tyqual))"
     ],
     "language": "python",
     "metadata": {},
     "outputs": [
      {
       "output_type": "stream",
       "stream": "stdout",
       "text": [
        "(<__main__.TyBool instance at 0x104a2d1b8>, True)\n",
        "(<__main__.TyEnd instance at 0x104a2d368>, True)\n"
       ]
      }
     ],
     "prompt_number": 104
    },
    {
     "cell_type": "code",
     "collapsed": false,
     "input": [
      "t_recv = TyRecv(t_tybool, t_tyend)\n",
      "t_send= TySend(t_tybool, t_tyend)\n",
      "print(t_recv, typeCheck(t_recv))\n",
      "print(t_send, typeCheck(t_send))"
     ],
     "language": "python",
     "metadata": {},
     "outputs": [
      {
       "output_type": "stream",
       "stream": "stdout",
       "text": [
        "(<__main__.TyRecv instance at 0x104a2d098>, True)\n",
        "(<__main__.TySend instance at 0x103777b48>, True)\n"
       ]
      }
     ],
     "prompt_number": 105
    },
    {
     "cell_type": "code",
     "collapsed": false,
     "input": [
      "t_label = Label(\"hello\")\n",
      "print(t_label, typeCheck(t_label))\n"
     ],
     "language": "python",
     "metadata": {},
     "outputs": [
      {
       "output_type": "stream",
       "stream": "stdout",
       "text": [
        "(<__main__.Label instance at 0x104a2d5f0>, True)\n"
       ]
      }
     ],
     "prompt_number": 106
    },
    {
     "cell_type": "code",
     "collapsed": false,
     "input": [
      "lis = []\n",
      "lis.append((t_label, t_tybool))\n",
      "t_tybranch = TyBranch(lis)\n",
      "print(typeCheck(t_tybranch))"
     ],
     "language": "python",
     "metadata": {},
     "outputs": [
      {
       "output_type": "stream",
       "stream": "stdout",
       "text": [
        "(<__main__.Label instance at 0x104a2d5f0>, <__main__.TyQual instance at 0x1049ce7a0>)\n",
        "True\n"
       ]
      }
     ],
     "prompt_number": 107
    },
    {
     "cell_type": "code",
     "collapsed": false,
     "input": [],
     "language": "python",
     "metadata": {},
     "outputs": []
    }
   ],
   "metadata": {}
  }
 ]
}